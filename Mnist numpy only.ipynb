{
 "cells": [
  {
   "cell_type": "markdown",
   "id": "b4ead93c",
   "metadata": {},
   "source": [
    "# Começaremos importando as bibliotescas necessarias para começar o prejeto"
   ]
  },
  {
   "cell_type": "code",
   "execution_count": 1,
   "id": "dbce8d5d",
   "metadata": {},
   "outputs": [],
   "source": [
    "import numpy as np\n",
    "import pandas as pd \n",
    "from matplotlib import pyplot as plt "
   ]
  },
  {
   "cell_type": "markdown",
   "id": "fb9b99ff",
   "metadata": {},
   "source": [
    "após importar as bibliotecas, começamos lendo os dados da planilha para a variavel data"
   ]
  },
  {
   "cell_type": "code",
   "execution_count": 2,
   "id": "f6925b83",
   "metadata": {},
   "outputs": [],
   "source": [
    "data = pd.read_csv(r\"C:\\Users\\vinic\\OneDrive\\Área de Trabalho\\train.csv\")"
   ]
  },
  {
   "cell_type": "markdown",
   "id": "b7dae445",
   "metadata": {},
   "source": [
    "Checamos a variavel data para ver se os dados estão corretos"
   ]
  },
  {
   "cell_type": "code",
   "execution_count": 3,
   "id": "a3d8fc36",
   "metadata": {},
   "outputs": [
    {
     "data": {
      "text/html": [
       "<div>\n",
       "<style scoped>\n",
       "    .dataframe tbody tr th:only-of-type {\n",
       "        vertical-align: middle;\n",
       "    }\n",
       "\n",
       "    .dataframe tbody tr th {\n",
       "        vertical-align: top;\n",
       "    }\n",
       "\n",
       "    .dataframe thead th {\n",
       "        text-align: right;\n",
       "    }\n",
       "</style>\n",
       "<table border=\"1\" class=\"dataframe\">\n",
       "  <thead>\n",
       "    <tr style=\"text-align: right;\">\n",
       "      <th></th>\n",
       "      <th>label</th>\n",
       "      <th>pixel0</th>\n",
       "      <th>pixel1</th>\n",
       "      <th>pixel2</th>\n",
       "      <th>pixel3</th>\n",
       "      <th>pixel4</th>\n",
       "      <th>pixel5</th>\n",
       "      <th>pixel6</th>\n",
       "      <th>pixel7</th>\n",
       "      <th>pixel8</th>\n",
       "      <th>...</th>\n",
       "      <th>pixel774</th>\n",
       "      <th>pixel775</th>\n",
       "      <th>pixel776</th>\n",
       "      <th>pixel777</th>\n",
       "      <th>pixel778</th>\n",
       "      <th>pixel779</th>\n",
       "      <th>pixel780</th>\n",
       "      <th>pixel781</th>\n",
       "      <th>pixel782</th>\n",
       "      <th>pixel783</th>\n",
       "    </tr>\n",
       "  </thead>\n",
       "  <tbody>\n",
       "    <tr>\n",
       "      <th>0</th>\n",
       "      <td>1</td>\n",
       "      <td>0</td>\n",
       "      <td>0</td>\n",
       "      <td>0</td>\n",
       "      <td>0</td>\n",
       "      <td>0</td>\n",
       "      <td>0</td>\n",
       "      <td>0</td>\n",
       "      <td>0</td>\n",
       "      <td>0</td>\n",
       "      <td>...</td>\n",
       "      <td>0</td>\n",
       "      <td>0</td>\n",
       "      <td>0</td>\n",
       "      <td>0</td>\n",
       "      <td>0</td>\n",
       "      <td>0</td>\n",
       "      <td>0</td>\n",
       "      <td>0</td>\n",
       "      <td>0</td>\n",
       "      <td>0</td>\n",
       "    </tr>\n",
       "    <tr>\n",
       "      <th>1</th>\n",
       "      <td>0</td>\n",
       "      <td>0</td>\n",
       "      <td>0</td>\n",
       "      <td>0</td>\n",
       "      <td>0</td>\n",
       "      <td>0</td>\n",
       "      <td>0</td>\n",
       "      <td>0</td>\n",
       "      <td>0</td>\n",
       "      <td>0</td>\n",
       "      <td>...</td>\n",
       "      <td>0</td>\n",
       "      <td>0</td>\n",
       "      <td>0</td>\n",
       "      <td>0</td>\n",
       "      <td>0</td>\n",
       "      <td>0</td>\n",
       "      <td>0</td>\n",
       "      <td>0</td>\n",
       "      <td>0</td>\n",
       "      <td>0</td>\n",
       "    </tr>\n",
       "    <tr>\n",
       "      <th>2</th>\n",
       "      <td>1</td>\n",
       "      <td>0</td>\n",
       "      <td>0</td>\n",
       "      <td>0</td>\n",
       "      <td>0</td>\n",
       "      <td>0</td>\n",
       "      <td>0</td>\n",
       "      <td>0</td>\n",
       "      <td>0</td>\n",
       "      <td>0</td>\n",
       "      <td>...</td>\n",
       "      <td>0</td>\n",
       "      <td>0</td>\n",
       "      <td>0</td>\n",
       "      <td>0</td>\n",
       "      <td>0</td>\n",
       "      <td>0</td>\n",
       "      <td>0</td>\n",
       "      <td>0</td>\n",
       "      <td>0</td>\n",
       "      <td>0</td>\n",
       "    </tr>\n",
       "    <tr>\n",
       "      <th>3</th>\n",
       "      <td>4</td>\n",
       "      <td>0</td>\n",
       "      <td>0</td>\n",
       "      <td>0</td>\n",
       "      <td>0</td>\n",
       "      <td>0</td>\n",
       "      <td>0</td>\n",
       "      <td>0</td>\n",
       "      <td>0</td>\n",
       "      <td>0</td>\n",
       "      <td>...</td>\n",
       "      <td>0</td>\n",
       "      <td>0</td>\n",
       "      <td>0</td>\n",
       "      <td>0</td>\n",
       "      <td>0</td>\n",
       "      <td>0</td>\n",
       "      <td>0</td>\n",
       "      <td>0</td>\n",
       "      <td>0</td>\n",
       "      <td>0</td>\n",
       "    </tr>\n",
       "    <tr>\n",
       "      <th>4</th>\n",
       "      <td>0</td>\n",
       "      <td>0</td>\n",
       "      <td>0</td>\n",
       "      <td>0</td>\n",
       "      <td>0</td>\n",
       "      <td>0</td>\n",
       "      <td>0</td>\n",
       "      <td>0</td>\n",
       "      <td>0</td>\n",
       "      <td>0</td>\n",
       "      <td>...</td>\n",
       "      <td>0</td>\n",
       "      <td>0</td>\n",
       "      <td>0</td>\n",
       "      <td>0</td>\n",
       "      <td>0</td>\n",
       "      <td>0</td>\n",
       "      <td>0</td>\n",
       "      <td>0</td>\n",
       "      <td>0</td>\n",
       "      <td>0</td>\n",
       "    </tr>\n",
       "  </tbody>\n",
       "</table>\n",
       "<p>5 rows × 785 columns</p>\n",
       "</div>"
      ],
      "text/plain": [
       "   label  pixel0  pixel1  pixel2  pixel3  pixel4  pixel5  pixel6  pixel7  \\\n",
       "0      1       0       0       0       0       0       0       0       0   \n",
       "1      0       0       0       0       0       0       0       0       0   \n",
       "2      1       0       0       0       0       0       0       0       0   \n",
       "3      4       0       0       0       0       0       0       0       0   \n",
       "4      0       0       0       0       0       0       0       0       0   \n",
       "\n",
       "   pixel8  ...  pixel774  pixel775  pixel776  pixel777  pixel778  pixel779  \\\n",
       "0       0  ...         0         0         0         0         0         0   \n",
       "1       0  ...         0         0         0         0         0         0   \n",
       "2       0  ...         0         0         0         0         0         0   \n",
       "3       0  ...         0         0         0         0         0         0   \n",
       "4       0  ...         0         0         0         0         0         0   \n",
       "\n",
       "   pixel780  pixel781  pixel782  pixel783  \n",
       "0         0         0         0         0  \n",
       "1         0         0         0         0  \n",
       "2         0         0         0         0  \n",
       "3         0         0         0         0  \n",
       "4         0         0         0         0  \n",
       "\n",
       "[5 rows x 785 columns]"
      ]
     },
     "execution_count": 3,
     "metadata": {},
     "output_type": "execute_result"
    }
   ],
   "source": [
    "data.head()"
   ]
  },
  {
   "cell_type": "code",
   "execution_count": 4,
   "id": "0d685131",
   "metadata": {},
   "outputs": [],
   "source": [
    "data = np.array(data)        #Transformamos a variavel data em uma lista \n",
    "m, n = data.shape            #Obtém as dimensões da lista data\n",
    "np.random.shuffle(data)      #Embaralha os elementos da lista data"
   ]
  },
  {
   "cell_type": "code",
   "execution_count": 5,
   "id": "4f956714",
   "metadata": {},
   "outputs": [],
   "source": [
    "data_dev = data[0:1000].T    #Atribui os primeiros 1000 elementos da lista data à variável data_dev. O método .T é usado para transpor a lista data, o que significa que as linhas e as colunas são trocadas.\n",
    "Y_dev = data_dev[0]          #Atribui o primeiro elemento da lista data_dev à variável Y_dev.Este elemento é a etiqueta correspondente aos dados de treinamento.\n",
    "X_dev = data_dev[1:n]        #Atribui os elementos restantes da lista data_dev à variável X_dev.\n",
    "X_dev = X_dev / 255.         #Divide cada elemento da lista X_dev por 255. Isto é feito para normalizar os dados de treinamento, o que significa que todos os dados são colocados na mesma escala."
   ]
  },
  {
   "cell_type": "code",
   "execution_count": 6,
   "id": "2c968aa7",
   "metadata": {},
   "outputs": [],
   "source": [
    "data_train = data[1000:m].T  # Atribui os elementos da lista data a partir do índice 1000 até o final à variável data_train.\n",
    "                             # O método `.T` é usado para transpor a lista data, o que significa que as linhas e as colunas são trocadas.\n",
    "Y_train = data_train[0]      # Atribui o primeiro elemento da lista data_train à variável Y_train. Este elemento é a etiqueta correspondente aos dados de treinamento.\n",
    "X_train = data_train[1:n]    # Atribui os elementos restantes da lista data_train à variável X_train. Estes elementos são os dados de treinamento.\n",
    "X_train = X_train / 255.     # Divide cada elemento da lista X_train por 255. Isto é feito para normalizar os dados de treinamento, o que significa que todos os dados são colocados na mesma escala\n",
    "_,m_train = X_train.shape    # Obtém as dimensões da lista X_train. A variável _ é um marcador de posição que não é usado."
   ]
  },
  {
   "cell_type": "code",
   "execution_count": 7,
   "id": "6bc6d7bd",
   "metadata": {},
   "outputs": [
    {
     "data": {
      "text/plain": [
       "array([2, 1, 5, ..., 4, 3, 3], dtype=int64)"
      ]
     },
     "execution_count": 7,
     "metadata": {},
     "output_type": "execute_result"
    }
   ],
   "source": [
    "Y_train"
   ]
  },
  {
   "cell_type": "code",
   "execution_count": 8,
   "id": "486fa91b",
   "metadata": {},
   "outputs": [],
   "source": [
    "def init_params():                        # Inicia os parametros deste modelo \n",
    "    W1 = np.random.rand(10, 784) - 0.5    # Peso da primeira camada\n",
    "    b1 = np.random.rand(10, 1) - 0.5      # Viés da priimeira camada\n",
    "    W2 = np.random.rand(10, 10) - 0.5     # Peso da segunda camada\n",
    "    b2 = np.random.rand(10, 1) - 0.5      # Viés da segunda camdad\n",
    "    return W1, b1, W2, b2"
   ]
  },
  {
   "cell_type": "code",
   "execution_count": 9,
   "id": "904f9129",
   "metadata": {},
   "outputs": [],
   "source": [
    "def ReLU(Z):                         # Aplica a função ReLU à matriz Z.\n",
    "    return np.maximum(Z, 0)          # A: Uma matriz de números reais, onde os valores negativos em Z são substituídos por 0"
   ]
  },
  {
   "cell_type": "code",
   "execution_count": 10,
   "id": "c2a85c08",
   "metadata": {},
   "outputs": [],
   "source": [
    "def softmax(Z):                      # Aplica a função softmax à matriz Z.\n",
    "    A = np.exp(Z) / sum(np.exp(Z))   # A: Uma matriz de números reais, onde cada linha representa \n",
    "    return A                         # a probabilidade de um dos valores de saída da rede neural."
   ]
  },
  {
   "cell_type": "code",
   "execution_count": 11,
   "id": "e092eda5",
   "metadata": {},
   "outputs": [],
   "source": [
    "def forward_prop(W1, b1, W2, b2, X):     # Executa a propagação para frente da rede neural.\n",
    "    Z1 = W1.dot(X) + b1\n",
    "    A1 = ReLU(Z1)\n",
    "    Z2 = W2.dot(A1) + b2 \n",
    "    A2 = softmax(Z2)\n",
    "    return Z1, A1, Z2, A2"
   ]
  },
  {
   "cell_type": "code",
   "execution_count": 12,
   "id": "61e4f966",
   "metadata": {},
   "outputs": [],
   "source": [
    "def ReLU_deriv(Z):                   # Calcula a derivada da função ReLU.\n",
    "    return Z > 0                     # A: Uma matriz de números reais, onde os valores negativos em Z são substituídos por 0.\n",
    "                                     # A função ReLU_deriv() calcula a derivada da função ReLU. \n",
    "                                     # A derivada da função ReLU é uma função que calcula a taxa de mudança da função ReLU em \n",
    "                                # um determinado ponto. A função ReLU_deriv() calcula a derivada da função ReLU para a matriz Z."
   ]
  },
  {
   "cell_type": "code",
   "execution_count": 13,
   "id": "7e7c2b56",
   "metadata": {},
   "outputs": [],
   "source": [
    "def one_hot(Y):                                 # Cria uma matriz one-hot para as etiquetas Y.\n",
    "    one_hot_Y = np.zeros((Y.size, Y.max()+1))   # Y: Uma matriz de números inteiros, representando as etiquetas.\n",
    "    one_hot_Y[np.arange(Y.size), Y] = 1         # one_hot_Y: Uma matriz de números reais, onde cada linha representa \n",
    "    one_hot_Y = one_hot_Y.T                     # a representação one-hot de uma etiqueta.\n",
    "    return one_hot_Y"
   ]
  },
  {
   "cell_type": "code",
   "execution_count": 14,
   "id": "cb833457",
   "metadata": {},
   "outputs": [],
   "source": [
    "def backward_prop(Z1, A1,Z2, A2, W1, W2, X, Y):   # Backward propagation do modelo     # dW1: Os gradientes dos pesos da primeira camada.\n",
    "    one_hot_Y = one_hot(Y)                        # Z1: Saida da primeira camada       # db1: Os gradientes dos vieses da primeira camada.\n",
    "    dZ2 = A2 - one_hot_Y                          # A1: Ativação da primeira camada.   # dW2: Os gradientes dos pesos da segunda camada.\n",
    "    dW2 = 1 / m * dZ2.dot(A1.T)                   # Z2: Saida da segunda camada.       # db2: Os gradientes dos vieses da segunda camada.\n",
    "    db2 = 1 / m *np.sum(dZ2)                      # A2: Ativação da segunda camada.  \n",
    "    dZ1 = W2.T.dot(dZ2) * ReLU_deriv(Z1)          # W1: Pesos da primeira camada.       \n",
    "    dW1 = 1 / m * dZ1.dot(X.T)                    # W2: Pesos da segunda camada.      \n",
    "    db1 = 1 / m * np.sum(dZ1)                     # X: Entrada de dados.                 \n",
    "    return dW1, db1, dW2, db2                     # Y: As etiquetas de verdade."
   ]
  },
  {
   "cell_type": "code",
   "execution_count": 15,
   "id": "5ac0ddad",
   "metadata": {},
   "outputs": [],
   "source": [
    "def update_params(W1, b1, W2, b2, dW1, db1, dW2, db2, alpha):     # Alpha: A taxa de aprendizagem.\n",
    "    W1 = W1 - alpha * dW1                                         # W1: Os pesos da primeira camada atualizados.\n",
    "    b1 = b1 - alpha * db1                                         # W2: Os pesos da segunda camada atualizados.\n",
    "    W2 = W2 - alpha * dW2                                         # b1: Os vieses da primeira camada atualizados.\n",
    "    b2 = b2 - alpha * db2                                         # b2: Os vieses da segunda camada atualizados.\n",
    "    return W1, b1, W2, b2"
   ]
  },
  {
   "cell_type": "code",
   "execution_count": 16,
   "id": "63c03361",
   "metadata": {},
   "outputs": [],
   "source": [
    "def get_predictions(A2):         # Retorna as previsões da rede neural.\n",
    "    return np.argmax(A2, 0)      # predictions: Uma matriz de números inteiros, representando as previsões da rede neural.\n",
    "\n",
    "def get_accuracy(predictions, Y): # Calcula a acurácia da rede neural.\n",
    "    print(predictions, Y)\n",
    "    return np.sum(predictions == Y) / Y.size  # accuracy: Um número real, representando a acurácia da rede neural \n",
    "\n",
    "def gradient_descent(X, Y, alpha, iterations):\n",
    "    W1, b1, W2, b2 = init_params()\n",
    "    for i in range (iterations):\n",
    "        Z1, A1, Z2, A2 = forward_prop(W1, b1, W2, b2, X)\n",
    "        dW1, db1, dW2, db2 = backward_prop(Z1, A1, Z2, A2, W1, W2, X, Y)\n",
    "        W1, b1, W2, b2 = update_params(W1, b1, W2, b2, dW1, db1, dW2, db2, alpha)\n",
    "        if 1 % 10 == 0:\n",
    "            print(\"iterarion = \", i)\n",
    "            predictions = get_predictions(A2)\n",
    "            print(get_accuracy(predictions, Y))\n",
    "    return W1, b1, W2, b2"
   ]
  },
  {
   "cell_type": "code",
   "execution_count": 17,
   "id": "49014980",
   "metadata": {},
   "outputs": [],
   "source": [
    "W1, b1, W2, b2 = gradient_descent(X_train, Y_train, 0.10, 500)"
   ]
  },
  {
   "cell_type": "code",
   "execution_count": 18,
   "id": "c8601d58",
   "metadata": {},
   "outputs": [],
   "source": [
    "def make_predictions(X, W1, b1, W2, b2):            # Retorna as previsões da rede neural.\n",
    "    _, _, _, A2 = forward_prop(W1, b1, W2, b2, X)   # X: A matriz de entrada.  # W1: A matriz de pesos da primeira camada.\n",
    "    predictions = get_predictions(A2)               # b1:Os vieses da primeira camada. # W2:A matriz de pesos da segunda camada.\n",
    "    return predictions                              # b2: Os vieses da segunda camada.\n",
    "                                                    # predictions: Uma matriz de números inteiros, representando as previsões da\n",
    "                                                    # rede neural.    \n",
    "        \n",
    "def test_prediction(index, W1, b1, W2, b2):         # Imprime a previsão da rede neural para um exemplo de teste.\n",
    "    current_image = X_train[:, index, None]         # index: O índice do exemplo de teste. \n",
    "    prediction = make_predictions(X_train[:, index, None], W1, b1, W2, b2)\n",
    "    label = Y_train[index]\n",
    "    print(\"Prediction: \", prediction)\n",
    "    print(\"Label: \", label)\n",
    "    \n",
    "    current_image = current_image.reshape((28, 28)) * 255\n",
    "    plt.gray()\n",
    "    plt.imshow(current_image, interpolation='nearest')\n",
    "    plt.show()                                           "
   ]
  },
  {
   "cell_type": "code",
   "execution_count": 19,
   "id": "8ff8a9d6",
   "metadata": {},
   "outputs": [
    {
     "name": "stdout",
     "output_type": "stream",
     "text": [
      "Prediction:  [2]\n",
      "Label:  2\n"
     ]
    },
    {
     "data": {
      "image/png": "[encoded data removed]",
      "text/plain": [
       "<Figure size 432x288 with 1 Axes>"
      ]
     },
     "metadata": {
      "needs_background": "light"
     },
     "output_type": "display_data"
    },
    {
     "name": "stdout",
     "output_type": "stream",
     "text": [
      "Prediction:  [1]\n",
      "Label:  1\n"
     ]
    },
    {
     "data": {
      "image/png": "[encoded data removed]",
      "text/plain": [
       "<Figure size 432x288 with 1 Axes>"
      ]
     },
     "metadata": {
      "needs_background": "light"
     },
     "output_type": "display_data"
    },
    {
     "name": "stdout",
     "output_type": "stream",
     "text": [
      "Prediction:  [8]\n",
      "Label:  5\n"
     ]
    },
    {
     "data": {
      "image/png": "[encoded data removed]",
      "text/plain": [
       "<Figure size 432x288 with 1 Axes>"
      ]
     },
     "metadata": {
      "needs_background": "light"
     },
     "output_type": "display_data"
    },
    {
     "name": "stdout",
     "output_type": "stream",
     "text": [
      "Prediction:  [8]\n",
      "Label:  8\n"
     ]
    },
    {
     "data": {
      "image/png": "[encoded data removed]",
      "text/plain": [
       "<Figure size 432x288 with 1 Axes>"
      ]
     },
     "metadata": {
      "needs_background": "light"
     },
     "output_type": "display_data"
    }
   ],
   "source": [
    "test_prediction(0, W1, b1, W2, b2)\n",
    "test_prediction(1, W1, b1, W2, b2)\n",
    "test_prediction(2, W1, b1, W2, b2)\n",
    "test_prediction(3, W1, b1, W2, b2)"
   ]
  },
  {
   "cell_type": "code",
   "execution_count": 20,
   "id": "4ae94a54",
   "metadata": {},
   "outputs": [
    {
     "name": "stdout",
     "output_type": "stream",
     "text": [
      "[2 8 1 0 1 6 2 2 8 3 9 3 9 1 7 5 3 8 1 4 9 0 2 0 4 8 9 1 7 7 2 5 2 1 5 6 0\n",
      " 8 8 1 7 0 2 0 9 4 2 1 5 2 4 0 4 9 1 8 2 9 2 0 6 0 4 2 4 5 1 5 3 6 0 3 4 0\n",
      " 2 4 5 0 8 2 9 0 4 3 8 7 7 5 4 6 4 7 6 4 6 0 3 3 3 2 4 1 0 5 3 0 6 2 6 7 2\n",
      " 5 0 1 3 1 1 5 2 7 5 0 8 8 7 8 7 2 5 1 1 7 2 2 1 5 7 7 8 0 0 4 2 5 9 6 8 1\n",
      " 1 8 7 0 5 6 1 6 3 0 7 8 7 5 4 6 2 1 6 4 4 5 8 3 5 6 8 8 0 6 0 5 1 9 8 4 9\n",
      " 1 6 1 9 0 7 2 4 4 3 8 8 8 9 5 7 5 4 1 8 3 9 7 7 4 6 6 0 3 1 2 9 5 2 7 2 8\n",
      " 4 8 9 2 0 4 3 8 4 3 6 5 2 4 7 4 5 6 2 6 9 2 8 2 2 4 1 5 9 1 8 9 9 2 5 2 2\n",
      " 7 4 1 3 9 6 8 7 5 5 0 5 4 3 1 2 8 6 0 9 2 3 9 9 2 3 5 6 3 7 6 7 1 1 3 6 1\n",
      " 9 3 6 5 9 4 2 4 5 5 2 1 7 1 1 1 9 3 1 6 5 0 7 4 3 1 0 1 8 5 3 1 8 0 1 3 9\n",
      " 9 9 4 8 2 9 2 0 9 8 4 6 6 2 4 9 1 9 0 2 6 5 4 5 2 8 5 8 3 1 4 7 1 0 0 2 7\n",
      " 2 6 0 9 3 5 4 1 1 8 1 5 3 9 4 0 7 5 3 7 4 7 4 8 4 4 5 5 1 0 4 1 1 9 8 5 1\n",
      " 8 3 6 4 3 0 0 8 8 4 1 9 1 3 0 6 1 1 1 8 7 4 5 0 4 7 7 6 5 3 0 5 3 8 9 4 1\n",
      " 3 2 8 4 2 3 3 1 5 7 8 0 1 2 2 7 4 7 4 2 1 1 3 2 8 2 3 3 8 8 2 8 7 9 4 2 6\n",
      " 3 6 9 4 9 1 7 8 9 7 9 6 6 1 5 2 9 9 0 7 6 6 4 4 7 4 2 3 1 0 9 8 0 5 3 6 2\n",
      " 9 4 7 0 7 4 9 1 6 8 5 4 4 6 5 6 0 9 0 5 8 2 9 6 0 8 5 3 3 1 1 8 1 6 1 6 3\n",
      " 0 1 9 4 1 8 1 6 8 6 6 5 4 8 0 0 1 3 7 8 5 7 6 0 2 7 2 7 1 9 7 7 5 3 0 3 7\n",
      " 8 2 6 9 9 3 2 6 1 7 8 7 0 5 3 9 1 1 8 2 0 4 7 6 1 2 9 6 6 5 3 4 7 7 2 7 8\n",
      " 3 3 7 5 2 4 3 8 0 0 3 1 4 4 5 8 9 1 9 7 2 0 4 7 1 5 2 4 0 5 3 1 3 8 8 3 5\n",
      " 9 7 0 9 5 5 9 4 8 3 1 7 5 9 5 7 8 0 4 7 0 4 4 7 5 3 0 7 7 4 8 2 0 7 1 3 8\n",
      " 3 0 2 5 4 1 2 9 8 9 2 4 6 1 1 4 2 8 6 0 5 2 0 0 8 1 5 9 3 0 9 8 3 1 0 6 9\n",
      " 9 5 3 7 7 7 0 9 5 6 2 8 0 0 9 1 0 7 2 9 7 9 8 2 4 7 7 5 3 1 5 8 3 2 8 0 2\n",
      " 0 3 3 1 8 3 9 4 2 2 5 0 8 1 7 8 2 1 6 5 8 6 1 6 8 3 0 7 9 0 5 6 2 8 0 5 2\n",
      " 0 4 9 7 6 8 6 0 5 2 9 9 6 8 1 0 9 1 4 0 3 5 3 3 7 1 5 9 0 4 3 9 6 7 7 6 6\n",
      " 5 1 0 9 3 0 4 7 3 1 7 7 9 9 9 0 4 0 8 5 1 7 5 0 8 2 2 7 6 8 0 2 7 6 8 3 0\n",
      " 8 7 0 2 9 3 3 4 9 8 7 0 1 8 6 4 1 6 2 9 8 5 1 0 1 3 1 3 1 8 4 3 5 5 6 2 4\n",
      " 7 5 3 7 1 6 1 1 2 4 3 8 3 6 0 0 1 6 8 3 0 1 0 9 6 6 6 4 1 7 7 3 1 8 9 1 1\n",
      " 3 4 1 1 2 2 7 1 4 9 0 4 8 0 6 9 8 3 7 0 5 8 1 5 9 9 4 8 9 5 0 5 3 8 5 1 1\n",
      " 7] [2 8 1 0 1 6 2 2 8 3 4 3 9 1 7 8 5 8 3 9 9 0 2 0 2 8 9 1 7 7 2 8 2 1 5 6 0\n",
      " 8 8 1 7 0 2 0 9 4 2 1 5 2 4 0 4 9 1 8 2 9 8 0 6 0 4 2 4 5 1 8 3 6 0 3 4 0\n",
      " 7 9 5 0 8 2 9 0 4 3 8 7 7 5 4 6 4 7 6 4 6 0 3 3 3 2 7 1 0 5 3 0 6 2 6 7 2\n",
      " 5 0 1 3 1 1 6 2 7 5 0 5 0 7 8 7 2 5 1 1 9 2 2 1 5 7 7 7 6 0 9 2 5 9 6 8 1\n",
      " 1 8 7 0 5 6 1 6 8 0 7 8 3 5 4 6 2 8 6 4 4 5 8 3 5 6 8 5 0 6 0 5 1 9 0 4 9\n",
      " 1 6 1 9 0 7 2 4 4 3 8 8 8 7 5 7 5 4 1 3 3 9 9 7 4 4 6 0 3 1 2 7 5 2 7 2 8\n",
      " 4 8 9 2 2 4 3 8 4 3 6 6 5 4 7 4 5 6 2 6 9 2 8 2 2 4 1 5 9 1 1 9 4 2 8 2 2\n",
      " 7 4 1 3 9 6 8 9 5 5 0 5 4 3 1 2 8 6 0 9 2 3 9 9 2 3 5 3 3 7 6 3 1 1 3 6 1\n",
      " 9 3 6 3 9 4 4 4 5 5 3 1 7 1 1 1 9 3 1 6 5 0 7 2 3 3 0 1 5 8 3 1 8 4 1 3 9\n",
      " 9 9 4 8 2 9 2 0 9 8 4 6 6 2 4 9 1 4 0 0 6 5 4 5 2 8 5 3 3 1 4 7 1 2 0 2 7\n",
      " 2 6 0 9 3 5 4 1 1 8 1 5 5 9 4 0 7 5 9 7 4 4 4 8 4 4 5 5 1 0 9 1 1 7 8 3 1\n",
      " 8 3 6 2 3 0 0 8 8 4 1 9 1 3 0 6 1 1 1 8 7 4 5 0 9 7 7 6 3 9 0 8 3 8 9 2 1\n",
      " 3 2 8 4 2 3 3 1 5 7 8 0 1 2 8 7 4 9 9 2 1 1 3 6 8 2 3 3 8 8 2 8 7 9 4 2 6\n",
      " 3 5 9 4 9 1 7 8 3 7 9 2 6 1 5 2 9 9 4 7 6 5 4 4 7 4 2 3 1 0 8 0 0 3 3 6 2\n",
      " 9 4 7 0 7 4 9 4 6 7 5 4 4 6 5 6 0 9 0 5 5 2 9 6 0 8 5 3 3 1 1 8 1 6 1 6 8\n",
      " 0 1 9 4 1 6 8 6 5 6 6 5 4 8 0 0 1 3 9 8 5 7 6 0 2 7 2 7 1 9 7 3 5 3 0 3 7\n",
      " 8 2 6 9 9 3 2 2 1 7 8 7 0 5 3 9 1 1 8 2 0 4 7 6 1 2 8 6 6 3 2 9 7 7 2 7 8\n",
      " 3 3 7 5 7 4 3 8 0 0 3 1 4 4 5 8 9 1 9 7 2 0 4 7 1 5 2 6 0 5 3 1 3 8 0 3 9\n",
      " 9 7 0 9 5 5 7 5 8 2 1 7 5 9 5 9 8 0 4 7 0 4 4 7 5 3 0 2 9 4 8 4 0 7 1 3 8\n",
      " 3 0 3 5 4 1 2 9 8 4 3 4 6 1 1 4 2 4 6 0 5 2 0 0 1 1 5 9 3 0 7 8 3 1 0 6 4\n",
      " 9 5 3 0 1 7 0 9 6 6 2 8 5 6 9 1 0 7 2 7 7 9 9 8 4 7 7 5 3 1 3 8 3 2 8 0 2\n",
      " 0 3 3 1 8 3 9 9 2 2 5 0 8 1 7 8 2 1 6 8 8 6 1 6 8 3 0 7 9 7 5 6 2 8 0 5 6\n",
      " 0 2 9 7 6 7 6 0 3 2 4 7 3 4 1 4 9 1 4 0 3 5 3 3 7 1 5 9 0 4 3 4 6 7 7 6 6\n",
      " 5 1 0 5 5 0 4 7 3 1 1 7 9 9 9 0 4 0 8 5 1 7 0 0 5 3 2 7 6 8 0 2 7 6 8 3 0\n",
      " 5 7 0 2 9 8 3 4 9 8 7 0 1 8 6 4 1 6 2 9 8 5 1 0 1 3 1 8 1 8 7 3 5 5 6 2 4\n",
      " 7 5 0 7 1 6 1 1 2 9 3 8 6 6 0 0 1 6 8 3 0 1 0 9 6 6 6 5 1 7 7 9 1 0 9 1 1\n",
      " 3 4 1 1 2 2 5 1 4 9 0 4 8 0 6 9 8 3 7 0 8 8 1 5 9 9 4 5 4 5 0 5 3 8 5 1 8\n",
      " 7]\n"
     ]
    },
    {
     "data": {
      "text/plain": [
       "0.851"
      ]
     },
     "execution_count": 20,
     "metadata": {},
     "output_type": "execute_result"
    }
   ],
   "source": [
    "dev_predictions = make_predictions(X_dev, W1, b1, W2, b2)\n",
    "get_accuracy(dev_predictions, Y_dev)"
   ]
  },
  {
   "cell_type": "code",
   "execution_count": null,
   "id": "6600f56e",
   "metadata": {},
   "outputs": [],
   "source": []
  },
  {
   "cell_type": "code",
   "execution_count": null,
   "id": "b14da5cc",
   "metadata": {},
   "outputs": [],
   "source": []
  }
 ],
 "metadata": {
  "kernelspec": {
   "display_name": "Python 3 (ipykernel)",
   "language": "python",
   "name": "python3"
  },
  "language_info": {
   "codemirror_mode": {
    "name": "ipython",
    "version": 3
   },
   "file_extension": ".py",
   "mimetype": "text/x-python",
   "name": "python",
   "nbconvert_exporter": "python",
   "pygments_lexer": "ipython3",
   "version": "3.9.7"
  }
 },
 "nbformat": 4,
 "nbformat_minor": 5
}
